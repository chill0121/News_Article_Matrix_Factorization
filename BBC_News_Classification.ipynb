{
 "cells": [
  {
   "cell_type": "markdown",
   "metadata": {},
   "source": [
    "# News Article Matrix Factorization\n",
    "\n",
    "---\n",
    "\n",
    "Unsupervised classification applied to BBC News articles.\n",
    "\n",
    "This project derives from the Kaggle competition with the same name, found here: https://www.kaggle.com/competitions/learn-ai-bbc/overview\n",
    "\n",
    "\n",
    "## Kaggle Information:\n",
    "\n",
    "### Description:\n",
    "\n",
    "Text documents are one of the richest sources of data for businesses.\n",
    "\n",
    "We’ll use a public dataset from the BBC comprised of 2225 articles, each labeled under one of 5 categories: business, entertainment, politics, sport or tech.\n",
    "\n",
    "The dataset is broken into 1490 records for training and 735 for testing. The goal will be to build a system that can accurately classify previously unseen news articles into the right category.\n",
    "\n",
    "The competition is evaluated using Accuracy as a metric.\n",
    "\n",
    "Following blog has good information on how to look at the problem. https://cloud.google.com/blog/products/gcp/problem-solving-with-ml-automatic-document-classification\n",
    "\n",
    "### Evaluation:\n",
    "\n",
    "The evaluation metric for this competition is Accuracy. Sample Solution FIle shows the format required for submission. The file should contain a header and have the following two columns ArticleId (from Test File) Category (one of the five categories - sport, tech, business, entertainment or politics)\n",
    "\n",
    "### Citation: \n",
    "\n",
    "Bijoy Bose. (2019). BBC News Classification. Kaggle. https://kaggle.com/competitions/learn-ai-bbc"
   ]
  },
  {
   "cell_type": "markdown",
   "metadata": {},
   "source": [
    "## Table of Contents <a name=\"toc\"></a>\n",
    "\n",
    "---\n",
    "\n",
    "- 1.[**Data Source Information**](#datasource)\n",
    "- 2.[**Setup**](#setup)\n",
    "  - 2.1. [Environment Details for Reproducility](#env)\n",
    "  - 2.2. [Importing the Data](#dataimport)\n",
    "- 3.[**Data Preprocessing**](#datapre)\n",
    "  - 3.1. [First Looks](#firstlook)\n",
    "  - 3.2. [Text Cleanup](#textclean)\n",
    "  - 3.3. [Missing Data](#missingdata)\n",
    "- 4.[**Exploratory Data Analysis (EDA)**](#eda)\n",
    "\n",
    "- [**Appendix A - Online References**](#appendixa)"
   ]
  },
  {
   "cell_type": "markdown",
   "metadata": {},
   "source": [
    "## 1. Data Source Information <a name=\"datasource\"></a>\n",
    "\n",
    "---\n"
   ]
  },
  {
   "cell_type": "markdown",
   "metadata": {},
   "source": [
    "### 1.1. Energy Load Data: <a name=\"loaddata\"></a>\n",
    "\n",
    "Electrical load and generation data was gathered from Pennsylvania-New Jersey-Maryland Interconnection, now called PJM, which is a regional transmission organization (RTO) that coordinates movement of electricity in 13 states and Washington, DC. \n",
    "\n",
    "**Data Info:**\n",
    "- Detailed dataset documentation can be found at https://dataminer2.pjm.com/feed/hrl_load_metered/definition.\n",
    "- Accessed and obtained on 3/28/2024.\n",
    "- Ranges from 1/1/1993 to 3/27/2024.\n",
    "- Hourly frequency.\n",
    "\n",
    "- **Feature Information**\n",
    "    - **Datetime Beginning UTC:** Hourly datetime in UTC.\n",
    "    - **Datetime Beginning EPT:** Hourly datetime in EPT.\n",
    "    - **NERC Region:** North American Electric Reliability Corporation (NERC) Regions\n",
    "    - **Market Region:** Designation of utility market data belongs to.\n",
    "    - **Transmission Zone:** Zone where the electricity transmission occurs. Flagged by a string of the energy company(s)' name.\n",
    "    - **Load Area:** Metered electric distribution company.\n",
    "    - **MW:** Electrical load measured in Megawatts (MW).\n",
    "    - **Company Verified:** Indicates whether the metered load has been verified by the electric distribution company.\n",
    "\n",
    "###### [Back to Table of Contents](#toc)"
   ]
  },
  {
   "cell_type": "markdown",
   "metadata": {},
   "source": [
    "## 2. Setup <a name=\"setup\"></a>\n",
    "\n",
    "---"
   ]
  },
  {
   "cell_type": "code",
   "execution_count": 83,
   "metadata": {},
   "outputs": [],
   "source": [
    "import os\n",
    "import sys\n",
    "import numpy as np\n",
    "import pandas as pd\n",
    "import seaborn as sns\n",
    "import matplotlib.pyplot as plt\n",
    "import re\n",
    "from nltk.corpus import stopwords\n",
    "# nltk.download('stopwords')\n"
   ]
  },
  {
   "cell_type": "markdown",
   "metadata": {},
   "source": [
    "###### [Back to Table of Contents](#toc)"
   ]
  },
  {
   "cell_type": "markdown",
   "metadata": {},
   "source": [
    "### 2.1. Environment Information for Reproducibility: <a name=\"env\"></a>"
   ]
  },
  {
   "cell_type": "code",
   "execution_count": 84,
   "metadata": {},
   "outputs": [
    {
     "name": "stdout",
     "output_type": "stream",
     "text": [
      "Python version: 3.11.9 (main, Apr  2 2024, 08:25:04) [Clang 15.0.0 (clang-1500.3.9.4)]\n",
      "<module 'pandas'  using version: 2.1.4\n",
      "<module 'numpy'  using version: 1.26.4\n",
      "<module 'seaborn'  using version: 0.13.2\n"
     ]
    }
   ],
   "source": [
    "print(f\"Python version: {sys.version}\")\n",
    "\n",
    "packages = [pd, np, sns]\n",
    "for package in packages:\n",
    "    print(f\"{str(package).partition('from')[0]} using version: {package.__version__}\")"
   ]
  },
  {
   "cell_type": "markdown",
   "metadata": {},
   "source": [
    "###### [Back to Table of Contents](#toc)"
   ]
  },
  {
   "cell_type": "markdown",
   "metadata": {},
   "source": [
    "### 2.2. Importing the Data: <a name=\"dataimport\"></a>"
   ]
  },
  {
   "cell_type": "code",
   "execution_count": 85,
   "metadata": {},
   "outputs": [],
   "source": [
    "# Set directories\n",
    "current_wdir = os.getcwd()\n",
    "data_folder = current_wdir + '/Data/'"
   ]
  },
  {
   "cell_type": "code",
   "execution_count": 86,
   "metadata": {},
   "outputs": [],
   "source": [
    "# Add and sort all filenames from each folder path.\n",
    "file_path = [f'{data_folder}/{file}' for file in os.listdir(data_folder) if '.csv' in file]\n",
    "file_path = sorted(file_path)\n",
    "\n",
    "# Iterate through filenames and add them to dataframe.\n",
    "# pd.read_csv can unzip as it goes with compression argument.\n",
    "train = pd.read_csv(data_folder + '/BBC News Train.csv.gz', compression = 'gzip')\n",
    "X_test = pd.read_csv(data_folder + '/BBC News Test.csv.gz', compression = 'gzip')\n",
    "y_test = pd.read_csv(data_folder + '/BBC News Sample Solution.csv.gz', compression = 'gzip')"
   ]
  },
  {
   "cell_type": "markdown",
   "metadata": {},
   "source": [
    "###### [Back to Table of Contents](#toc)"
   ]
  },
  {
   "cell_type": "markdown",
   "metadata": {},
   "source": [
    "## 3. Data Preprocessing <a name=\"datapre\"></a>\n",
    "\n",
    "---"
   ]
  },
  {
   "cell_type": "markdown",
   "metadata": {},
   "source": [
    "### 3.1. First Looks: <a name=\"firstlook\"></a>"
   ]
  },
  {
   "cell_type": "code",
   "execution_count": 87,
   "metadata": {},
   "outputs": [
    {
     "name": "stdout",
     "output_type": "stream",
     "text": [
      "Train\n",
      "####################\n"
     ]
    },
    {
     "data": {
      "text/html": [
       "<div>\n",
       "<style scoped>\n",
       "    .dataframe tbody tr th:only-of-type {\n",
       "        vertical-align: middle;\n",
       "    }\n",
       "\n",
       "    .dataframe tbody tr th {\n",
       "        vertical-align: top;\n",
       "    }\n",
       "\n",
       "    .dataframe thead th {\n",
       "        text-align: right;\n",
       "    }\n",
       "</style>\n",
       "<table border=\"1\" class=\"dataframe\">\n",
       "  <thead>\n",
       "    <tr style=\"text-align: right;\">\n",
       "      <th></th>\n",
       "      <th>ArticleId</th>\n",
       "      <th>Text</th>\n",
       "      <th>Category</th>\n",
       "    </tr>\n",
       "  </thead>\n",
       "  <tbody>\n",
       "    <tr>\n",
       "      <th>0</th>\n",
       "      <td>1833</td>\n",
       "      <td>worldcom ex-boss launches defence lawyers defe...</td>\n",
       "      <td>business</td>\n",
       "    </tr>\n",
       "    <tr>\n",
       "      <th>1</th>\n",
       "      <td>154</td>\n",
       "      <td>german business confidence slides german busin...</td>\n",
       "      <td>business</td>\n",
       "    </tr>\n",
       "    <tr>\n",
       "      <th>2</th>\n",
       "      <td>1101</td>\n",
       "      <td>bbc poll indicates economic gloom citizens in ...</td>\n",
       "      <td>business</td>\n",
       "    </tr>\n",
       "    <tr>\n",
       "      <th>3</th>\n",
       "      <td>1976</td>\n",
       "      <td>lifestyle  governs mobile choice  faster  bett...</td>\n",
       "      <td>tech</td>\n",
       "    </tr>\n",
       "    <tr>\n",
       "      <th>4</th>\n",
       "      <td>917</td>\n",
       "      <td>enron bosses in $168m payout eighteen former e...</td>\n",
       "      <td>business</td>\n",
       "    </tr>\n",
       "    <tr>\n",
       "      <th>...</th>\n",
       "      <td>...</td>\n",
       "      <td>...</td>\n",
       "      <td>...</td>\n",
       "    </tr>\n",
       "    <tr>\n",
       "      <th>1485</th>\n",
       "      <td>857</td>\n",
       "      <td>double eviction from big brother model caprice...</td>\n",
       "      <td>entertainment</td>\n",
       "    </tr>\n",
       "    <tr>\n",
       "      <th>1486</th>\n",
       "      <td>325</td>\n",
       "      <td>dj double act revamp chart show dj duo jk and ...</td>\n",
       "      <td>entertainment</td>\n",
       "    </tr>\n",
       "    <tr>\n",
       "      <th>1487</th>\n",
       "      <td>1590</td>\n",
       "      <td>weak dollar hits reuters revenues at media gro...</td>\n",
       "      <td>business</td>\n",
       "    </tr>\n",
       "    <tr>\n",
       "      <th>1488</th>\n",
       "      <td>1587</td>\n",
       "      <td>apple ipod family expands market apple has exp...</td>\n",
       "      <td>tech</td>\n",
       "    </tr>\n",
       "    <tr>\n",
       "      <th>1489</th>\n",
       "      <td>538</td>\n",
       "      <td>santy worm makes unwelcome visit thousands of ...</td>\n",
       "      <td>tech</td>\n",
       "    </tr>\n",
       "  </tbody>\n",
       "</table>\n",
       "<p>1490 rows × 3 columns</p>\n",
       "</div>"
      ],
      "text/plain": [
       "      ArticleId                                               Text  \\\n",
       "0          1833  worldcom ex-boss launches defence lawyers defe...   \n",
       "1           154  german business confidence slides german busin...   \n",
       "2          1101  bbc poll indicates economic gloom citizens in ...   \n",
       "3          1976  lifestyle  governs mobile choice  faster  bett...   \n",
       "4           917  enron bosses in $168m payout eighteen former e...   \n",
       "...         ...                                                ...   \n",
       "1485        857  double eviction from big brother model caprice...   \n",
       "1486        325  dj double act revamp chart show dj duo jk and ...   \n",
       "1487       1590  weak dollar hits reuters revenues at media gro...   \n",
       "1488       1587  apple ipod family expands market apple has exp...   \n",
       "1489        538  santy worm makes unwelcome visit thousands of ...   \n",
       "\n",
       "           Category  \n",
       "0          business  \n",
       "1          business  \n",
       "2          business  \n",
       "3              tech  \n",
       "4          business  \n",
       "...             ...  \n",
       "1485  entertainment  \n",
       "1486  entertainment  \n",
       "1487       business  \n",
       "1488           tech  \n",
       "1489           tech  \n",
       "\n",
       "[1490 rows x 3 columns]"
      ]
     },
     "metadata": {},
     "output_type": "display_data"
    },
    {
     "name": "stdout",
     "output_type": "stream",
     "text": [
      "ArticleId     int64\n",
      "Text         object\n",
      "Category     object\n",
      "dtype: object\n",
      "\n",
      "Test\n",
      "####################\n",
      "['ArticleId', 'Text']\n",
      "(735, 2)\n",
      "['ArticleId', 'Category']\n",
      "(735, 2)\n"
     ]
    }
   ],
   "source": [
    "print('Train\\n####################')\n",
    "display(train)\n",
    "print(train.dtypes)\n",
    "print('\\nTest\\n####################')\n",
    "print(X_test.columns.to_list())\n",
    "print(X_test.shape)\n",
    "print(y_test.columns.to_list())\n",
    "print(y_test.shape)"
   ]
  },
  {
   "cell_type": "code",
   "execution_count": 88,
   "metadata": {},
   "outputs": [],
   "source": [
    "# Build custom color map for consistent label visualization.\n",
    "category_cmap = {'business' : '#012A36',\n",
    "                 'tech' : '#D16666',\n",
    "                 'politics' : '#078060',\n",
    "                 'sport' : '#29274C',\n",
    "                 'entertainment' : '#FFF275'}"
   ]
  },
  {
   "cell_type": "code",
   "execution_count": 89,
   "metadata": {},
   "outputs": [
    {
     "data": {
      "image/png": "[encoded data removed]",
      "text/plain": [
       "<Figure size 640x480 with 1 Axes>"
      ]
     },
     "metadata": {},
     "output_type": "display_data"
    }
   ],
   "source": [
    "sns.histplot(train, x = 'Category', hue = 'Category', palette = category_cmap, legend = False, alpha = 0.9)\n",
    "plt.show()"
   ]
  },
  {
   "cell_type": "code",
   "execution_count": 90,
   "metadata": {},
   "outputs": [
    {
     "name": "stdout",
     "output_type": "stream",
     "text": [
      "china had role in yukos split-up china lent russia $6bn (£3.2bn) to help the russian government renationalise the key yuganskneftegas unit of oil group yukos  it has been revealed.  the kremlin said on tuesday that the $6bn which russian state bank veb lent state-owned rosneft to help buy yugansk in turn came from chinese banks. the revelation came as the russian government said rosneft had signed a long-term oil supply deal with china. the deal sees rosneft receive $6bn in credits from china s cnpc.  according to russian newspaper vedomosti  these credits would be used to pay off the loans rosneft received to finance the purchase of yugansk. reports said cnpc had been offered 20% of yugansk in return for providing finance but the company opted for a long-term oil supply deal instead. analysts said one factor that might have influenced the chinese decision was the possibility of litigation from yukos  yugansk s former owner  if cnpc had become a shareholder. rosneft and veb declined to comment.  the two companies [rosneft and cnpc] have agreed on the pre-payment for long-term deliveries   said russian oil official sergei oganesyan.  there is nothing unusual that the pre-payment is for five to six years.   the announcements help to explain how rosneft  a medium-sized  indebted  and relatively unknown firm  was able to finance its surprise purchase of yugansk. yugansk was sold for $9.3bn in an auction last year to help yukos pay off part of a $27bn bill in unpaid taxes and fines.  the embattled russian oil giant had previously filed for bankruptcy protection in a us court in an attempt to prevent the forced sale of its main production arm. but yugansk was sold to a little known shell company which in turn was bought by rosneft. yukos claims its downfall was punishment for the political ambitions of its founder mikhail khodorkovsky. once the country s richest man  mr khodorkovsky is on trial for fraud and tax evasion.  the deal between rosneft and cnpc is seen as part of china s desire to secure long-term oil supplies to feed its booming economy. china s thirst for products such as crude oil  copper and steel has helped pushed global commodity prices to record levels.  clearly the chinese are trying to get some leverage [in russia]   said dmitry lukashov  an analyst at brokerage aton.  they understand property rights in russia are not the most important rights  and they are more interested in guaranteeing supplies.   if the price of oil is fixed under the deal  which is unlikely  it could be very profitable for the chinese   mr lukashov continued.  and rosneft is in desperate need of cash  so it s a good deal for them too.\n",
      " -  -  - \n",
      "hewitt overcomes wobble in sydney lleyton hewitt gave himself the perfect preparation for next week s australian open with victory over ivo minar in the final of the sydney international.  the defending champion brushed aside the czech qualifier 7-5 6-0. the australian world number three strolled to the first five games of the match but was shocked as minar won the next five. the top seed was rattled but recovered to close out the set and raced to victory in exactly an hour.  it was a strange match . . . momentum swings   said hewitt.  i felt like i came out of the blocks extremely well  but then he loosened up a bit.  when he got back to 5-5  i had to try to settle down and take it up a notch  and i was able to do that.   hewitt has now lifted the sydney title four times in the last six years.  it just keeps getting better and better every year   hewitt said.  i ve only played this tournament four times and i ve won it four times.  hewitt went into the final as a short-priced favourite to clinch his 24th career title after dropping only one set all week. he is set to meet frenchman arnaud clement in the first round of the australian open. minar  ranked 158th in the world  was forced to pull out of the australian open qualifying draw to play in his first atp final.  for me  this was a big success   said the 20-year-old.  i was so nervous last night i couldn t sleep. i ve never played a top-10 player before.  i wanted to play qualifying in melbourne  but it s saturday and i m still here. but this is a main draw and i need the points and the money.  alicia molik takes on samantha stosur in an all-australian women s final later on saturday.\n",
      " -  -  - \n",
      "gm in crunch talks on fiat future fiat will meet car giant general motors (gm) on tuesday in an attempt to reach agreement over the future of the italian firm s loss-making auto group.  fiat claims that gm is legally obliged to buy the 90% of the car unit it does not already own; gm says the contract  signed in 2000  is no longer valid. press reports have speculated that fiat may be willing to accept a cash payment in return for dropping its claim. both companies want to cut costs as the car industry adjusts to waning demand.  the meeting between fiat boss sergio marchionne and gm s rick wagoner is due to take place at 1330 gmt in zurich  according to the reuters news agency.  mr marchionne is confident of his firm s legal position  saying in an interview with the financial times that gm s argument  has no legs . the agreement in question dates back to gm s decision to buy 20% of fiat s auto division in 2000. at the time  it gave the italian firm the right  via a  put option   to sell the remaining stake to gm. in recent weeks  fiat has reiterated its claims that this  put  is still valid and legally binding. however  gm argues that a fiat share sale made last year  which cut gm s holding to 10%  together with asset sales made by fiat have terminated the agreement.  selling the fiat s car-making unit may not prove so simple  analysts say  especially as it is a company that is so closely linked to italy s industrial heritage. political and public pressure may well push the two firms to reach a compromise.  we are not expecting fiat to exercise its put of the auto business against an unwilling gm at this point   brokerage merrill lynch said in a note to investors  adding that any legal battle would be protracted and damaging to the business.  as far as we are aware  the agnelli family  which indirectly controls at least 30% of fiat  has not given a firm public indication that it wants to sell the auto business.  fiat may be willing to cancel the  put  in exchange for money.\n"
     ]
    }
   ],
   "source": [
    "# Choose random text to display.\n",
    "print(train.Text[25])\n",
    "print(' -  -  - ')\n",
    "print(train.Text[20])\n",
    "print(' -  -  - ')\n",
    "print(train.Text[500])"
   ]
  },
  {
   "cell_type": "markdown",
   "metadata": {},
   "source": [
    "### 3.2. Text Cleanup: <a name=\"textclean\"></a>"
   ]
  },
  {
   "cell_type": "markdown",
   "metadata": {},
   "source": [
    "We can see that while there looks to have been some text preprocessing already done, there are a few more steps to be taken before more exploratory data analysis can be done and then into word embedding.\n",
    "\n",
    "**Pre-processing done already:**\n",
    "1. All letters are lowercase.\n",
    "2. Apostrophes have been removed (e.g. `from yukos  yugansk s former owner` and `for next week s australian open`).\n",
    "\n",
    "However, these have only been observed from a small sample of the text, so will be checked to ensure this is the case in the entire corpus.\n",
    "\n",
    "**Pre-processing to be done:**\n",
    "1. Remove special characters.\n",
    "2. Remove punctuation.\n",
    "3. Remove extra spaces.\n",
    "4. Remove \"stop words\" (e.g. `the`, `is`, `a`, `an`, `for`, etc).\n",
    "5. Tokenize words (e.g. `amazingly few discotheques provide jukeboxes` $\\rightarrow$ `[amazingly], [few], [discotheques], [provide], [jukeboxes]`).\n",
    "\n",
    "**Optional Pre-processing (to be determined during model fine-tuning):**\n",
    "1. Lammatize words, reducing words to their roots (e.g. `striking` $\\rightarrow$ `strike` or `strikes` $\\rightarrow$ `strike`).\n",
    "\n",
    "*Note: As this project is intended for classification using matrix factorization, removing stop words, plurals, and punctuation poses little risk in negatively affecting the model's abilities. However, if semantics or other NLP applications were intended, much of sentence meaning can be lost without careful application of these techniques. Arguably, though, including special characters such as \"$\" could increase accuracy in classifying certain categories.*"
   ]
  },
  {
   "cell_type": "code",
   "execution_count": 91,
   "metadata": {},
   "outputs": [],
   "source": [
    "def clean_corpus(df, column):\n",
    "    # Remove hyphens and replace with space.\n",
    "    df['hyphen'] = df[column].apply(lambda x: re.sub(r'[ a-zA-Z0-9]', '', x))\n",
    "    # Remove anything that isn't a latter, number, or space.\n",
    "    df['alpha_only'] = df[column].apply(lambda x: re.sub(r'[^ a-zA-Z0-9]+', '', x))\n",
    "    # Remove any extra spaces.\n",
    "    df['extra_spaces'] = df['alpha_only'].apply(lambda x: re.sub(r'\\s{2,}', ' ', x))\n",
    "    # Remove stop words.\n",
    "    stops = set(stopwords.words('english')) # Set lookup is faster.\n",
    "    df['cleaned'] = df['extra_spaces'].apply(lambda x: ' '.join([word for word in x.split() if word not in stops]))\n",
    "    \n",
    "    return"
   ]
  },
  {
   "cell_type": "code",
   "execution_count": 92,
   "metadata": {},
   "outputs": [],
   "source": [
    "clean_corpus(train, 'Text')"
   ]
  },
  {
   "cell_type": "code",
   "execution_count": 93,
   "metadata": {},
   "outputs": [
    {
     "name": "stdout",
     "output_type": "stream",
     "text": [
      "Processed: china role yukos splitup china lent russia 6bn 32bn help russian government renationalise key yuganskneftegas unit oil group yukos revealed kremlin said tuesday 6bn russian state bank veb lent stateowned rosneft help buy yugansk turn came chinese banks revelation came russian government said rosneft signed longterm oil supply deal china deal sees rosneft receive 6bn credits china cnpc according russian newspaper vedomosti credits would used pay loans rosneft received finance purchase yugansk reports said cnpc offered 20 yugansk return providing finance company opted longterm oil supply deal instead analysts said one factor might influenced chinese decision possibility litigation yukos yugansk former owner cnpc become shareholder rosneft veb declined comment two companies rosneft cnpc agreed prepayment longterm deliveries said russian oil official sergei oganesyan nothing unusual prepayment five six years announcements help explain rosneft mediumsized indebted relatively unknown firm able finance surprise purchase yugansk yugansk sold 93bn auction last year help yukos pay part 27bn bill unpaid taxes fines embattled russian oil giant previously filed bankruptcy protection us court attempt prevent forced sale main production arm yugansk sold little known shell company turn bought rosneft yukos claims downfall punishment political ambitions founder mikhail khodorkovsky country richest man mr khodorkovsky trial fraud tax evasion deal rosneft cnpc seen part china desire secure longterm oil supplies feed booming economy china thirst products crude oil copper steel helped pushed global commodity prices record levels clearly chinese trying get leverage russia said dmitry lukashov analyst brokerage aton understand property rights russia important rights interested guaranteeing supplies price oil fixed deal unlikely could profitable chinese mr lukashov continued rosneft desperate need cash good deal\n",
      "Original:  china had role in yukos split-up china lent russia $6bn (£3.2bn) to help the russian government renationalise the key yuganskneftegas unit of oil group yukos  it has been revealed.  the kremlin said on tuesday that the $6bn which russian state bank veb lent state-owned rosneft to help buy yugansk in turn came from chinese banks. the revelation came as the russian government said rosneft had signed a long-term oil supply deal with china. the deal sees rosneft receive $6bn in credits from china s cnpc.  according to russian newspaper vedomosti  these credits would be used to pay off the loans rosneft received to finance the purchase of yugansk. reports said cnpc had been offered 20% of yugansk in return for providing finance but the company opted for a long-term oil supply deal instead. analysts said one factor that might have influenced the chinese decision was the possibility of litigation from yukos  yugansk s former owner  if cnpc had become a shareholder. rosneft and veb declined to comment.  the two companies [rosneft and cnpc] have agreed on the pre-payment for long-term deliveries   said russian oil official sergei oganesyan.  there is nothing unusual that the pre-payment is for five to six years.   the announcements help to explain how rosneft  a medium-sized  indebted  and relatively unknown firm  was able to finance its surprise purchase of yugansk. yugansk was sold for $9.3bn in an auction last year to help yukos pay off part of a $27bn bill in unpaid taxes and fines.  the embattled russian oil giant had previously filed for bankruptcy protection in a us court in an attempt to prevent the forced sale of its main production arm. but yugansk was sold to a little known shell company which in turn was bought by rosneft. yukos claims its downfall was punishment for the political ambitions of its founder mikhail khodorkovsky. once the country s richest man  mr khodorkovsky is on trial for fraud and tax evasion.  the deal between rosneft and cnpc is seen as part of china s desire to secure long-term oil supplies to feed its booming economy. china s thirst for products such as crude oil  copper and steel has helped pushed global commodity prices to record levels.  clearly the chinese are trying to get some leverage [in russia]   said dmitry lukashov  an analyst at brokerage aton.  they understand property rights in russia are not the most important rights  and they are more interested in guaranteeing supplies.   if the price of oil is fixed under the deal  which is unlikely  it could be very profitable for the chinese   mr lukashov continued.  and rosneft is in desperate need of cash  so it s a good deal for them too.\n",
      " -  -  - \n",
      "Processed: hewitt overcomes wobble sydney lleyton hewitt gave perfect preparation next week australian open victory ivo minar final sydney international defending champion brushed aside czech qualifier 75 60 australian world number three strolled first five games match shocked minar next five top seed rattled recovered close set raced victory exactly hour strange match momentum swings said hewitt felt like came blocks extremely well loosened bit got back 55 try settle take notch able hewitt lifted sydney title four times last six years keeps getting better better every year hewitt said played tournament four times four times hewitt went final shortpriced favourite clinch 24th career title dropping one set week set meet frenchman arnaud clement first round australian open minar ranked 158th world forced pull australian open qualifying draw play first atp final big success said 20yearold nervous last night sleep never played top10 player wanted play qualifying melbourne saturday still main draw need points money alicia molik takes samantha stosur allaustralian women final later saturday\n",
      "Original:  hewitt overcomes wobble in sydney lleyton hewitt gave himself the perfect preparation for next week s australian open with victory over ivo minar in the final of the sydney international.  the defending champion brushed aside the czech qualifier 7-5 6-0. the australian world number three strolled to the first five games of the match but was shocked as minar won the next five. the top seed was rattled but recovered to close out the set and raced to victory in exactly an hour.  it was a strange match . . . momentum swings   said hewitt.  i felt like i came out of the blocks extremely well  but then he loosened up a bit.  when he got back to 5-5  i had to try to settle down and take it up a notch  and i was able to do that.   hewitt has now lifted the sydney title four times in the last six years.  it just keeps getting better and better every year   hewitt said.  i ve only played this tournament four times and i ve won it four times.  hewitt went into the final as a short-priced favourite to clinch his 24th career title after dropping only one set all week. he is set to meet frenchman arnaud clement in the first round of the australian open. minar  ranked 158th in the world  was forced to pull out of the australian open qualifying draw to play in his first atp final.  for me  this was a big success   said the 20-year-old.  i was so nervous last night i couldn t sleep. i ve never played a top-10 player before.  i wanted to play qualifying in melbourne  but it s saturday and i m still here. but this is a main draw and i need the points and the money.  alicia molik takes on samantha stosur in an all-australian women s final later on saturday.\n",
      " -  -  - \n",
      "Processed: gm crunch talks fiat future fiat meet car giant general motors gm tuesday attempt reach agreement future italian firm lossmaking auto group fiat claims gm legally obliged buy 90 car unit already gm says contract signed 2000 longer valid press reports speculated fiat may willing accept cash payment return dropping claim companies want cut costs car industry adjusts waning demand meeting fiat boss sergio marchionne gm rick wagoner due take place 1330 gmt zurich according reuters news agency mr marchionne confident firm legal position saying interview financial times gm argument legs agreement question dates back gm decision buy 20 fiat auto division 2000 time gave italian firm right via put option sell remaining stake gm recent weeks fiat reiterated claims put still valid legally binding however gm argues fiat share sale made last year cut gm holding 10 together asset sales made fiat terminated agreement selling fiat carmaking unit may prove simple analysts say especially company closely linked italy industrial heritage political public pressure may well push two firms reach compromise expecting fiat exercise put auto business unwilling gm point brokerage merrill lynch said note investors adding legal battle would protracted damaging business far aware agnelli family indirectly controls least 30 fiat given firm public indication wants sell auto business fiat may willing cancel put exchange money\n",
      "Original:  gm in crunch talks on fiat future fiat will meet car giant general motors (gm) on tuesday in an attempt to reach agreement over the future of the italian firm s loss-making auto group.  fiat claims that gm is legally obliged to buy the 90% of the car unit it does not already own; gm says the contract  signed in 2000  is no longer valid. press reports have speculated that fiat may be willing to accept a cash payment in return for dropping its claim. both companies want to cut costs as the car industry adjusts to waning demand.  the meeting between fiat boss sergio marchionne and gm s rick wagoner is due to take place at 1330 gmt in zurich  according to the reuters news agency.  mr marchionne is confident of his firm s legal position  saying in an interview with the financial times that gm s argument  has no legs . the agreement in question dates back to gm s decision to buy 20% of fiat s auto division in 2000. at the time  it gave the italian firm the right  via a  put option   to sell the remaining stake to gm. in recent weeks  fiat has reiterated its claims that this  put  is still valid and legally binding. however  gm argues that a fiat share sale made last year  which cut gm s holding to 10%  together with asset sales made by fiat have terminated the agreement.  selling the fiat s car-making unit may not prove so simple  analysts say  especially as it is a company that is so closely linked to italy s industrial heritage. political and public pressure may well push the two firms to reach a compromise.  we are not expecting fiat to exercise its put of the auto business against an unwilling gm at this point   brokerage merrill lynch said in a note to investors  adding that any legal battle would be protracted and damaging to the business.  as far as we are aware  the agnelli family  which indirectly controls at least 30% of fiat  has not given a firm public indication that it wants to sell the auto business.  fiat may be willing to cancel the  put  in exchange for money.\n"
     ]
    }
   ],
   "source": [
    "print('Processed:', train.cleaned[25])\n",
    "print('Original: ', train.Text[25])\n",
    "print(' -  -  - ')\n",
    "print('Processed:', train.cleaned[20])\n",
    "print('Original: ', train.Text[20])\n",
    "print(' -  -  - ')\n",
    "print('Processed:', train.cleaned[500])\n",
    "print('Original: ', train.Text[500])"
   ]
  },
  {
   "cell_type": "code",
   "execution_count": 101,
   "metadata": {},
   "outputs": [
    {
     "data": {
      "text/plain": [
       "{'$27bn',\n",
       " '$6bn',\n",
       " '$9.3bn',\n",
       " '(£3.2bn)',\n",
       " '20%',\n",
       " '[in',\n",
       " '[rosneft',\n",
       " 'a',\n",
       " 'an',\n",
       " 'and',\n",
       " 'are',\n",
       " 'arm.',\n",
       " 'as',\n",
       " 'at',\n",
       " 'aton.',\n",
       " 'banks.',\n",
       " 'be',\n",
       " 'been',\n",
       " 'between',\n",
       " 'but',\n",
       " 'by',\n",
       " 'china.',\n",
       " 'cnpc.',\n",
       " 'cnpc]',\n",
       " 'comment.',\n",
       " 'continued.',\n",
       " 'economy.',\n",
       " 'evasion.',\n",
       " 'fines.',\n",
       " 'for',\n",
       " 'from',\n",
       " 'had',\n",
       " 'has',\n",
       " 'have',\n",
       " 'how',\n",
       " 'if',\n",
       " 'in',\n",
       " 'instead.',\n",
       " 'is',\n",
       " 'it',\n",
       " 'its',\n",
       " 'khodorkovsky.',\n",
       " 'levels.',\n",
       " 'long-term',\n",
       " 'medium-sized',\n",
       " 'more',\n",
       " 'most',\n",
       " 'not',\n",
       " 'of',\n",
       " 'off',\n",
       " 'oganesyan.',\n",
       " 'on',\n",
       " 'once',\n",
       " 'pre-payment',\n",
       " 'revealed.',\n",
       " 'rosneft.',\n",
       " 'russia]',\n",
       " 's',\n",
       " 'shareholder.',\n",
       " 'so',\n",
       " 'some',\n",
       " 'split-up',\n",
       " 'state-owned',\n",
       " 'such',\n",
       " 'supplies.',\n",
       " 'that',\n",
       " 'the',\n",
       " 'them',\n",
       " 'there',\n",
       " 'these',\n",
       " 'they',\n",
       " 'to',\n",
       " 'too.',\n",
       " 'under',\n",
       " 'very',\n",
       " 'was',\n",
       " 'which',\n",
       " 'with',\n",
       " 'years.',\n",
       " 'yugansk.'}"
      ]
     },
     "execution_count": 101,
     "metadata": {},
     "output_type": "execute_result"
    }
   ],
   "source": [
    "set(train.Text[25].split()) - set(train.cleaned[25].split())"
   ]
  },
  {
   "cell_type": "code",
   "execution_count": 94,
   "metadata": {},
   "outputs": [
    {
     "ename": "NameError",
     "evalue": "name 'tokenizer' is not defined",
     "output_type": "error",
     "traceback": [
      "\u001b[0;31m---------------------------------------------------------------------------\u001b[0m",
      "\u001b[0;31mNameError\u001b[0m                                 Traceback (most recent call last)",
      "Cell \u001b[0;32mIn[94], line 1\u001b[0m\n\u001b[0;32m----> 1\u001b[0m \u001b[43mtokenizer\u001b[49m\n",
      "\u001b[0;31mNameError\u001b[0m: name 'tokenizer' is not defined"
     ]
    }
   ],
   "source": [
    "tokenizer"
   ]
  },
  {
   "cell_type": "markdown",
   "metadata": {},
   "source": [
    "### 3.3. Missing Data: <a name=\"missingdata\"></a>"
   ]
  },
  {
   "cell_type": "markdown",
   "metadata": {},
   "source": [
    "## Appendix A - Online References: <a name=\"appendixa\"></a>\n",
    "\n",
    "Resources that helped along the way in no particular order.\n",
    "\n",
    "1. Quick resource on stop word removal in Python - https://www.geeksforgeeks.org/removing-stop-words-nltk-python/\n",
    "2. Regex to remove extra whitespace - https://stackoverflow.com/questions/1546226/is-there-a-simple-way-to-remove-multiple-spaces-in-a-string"
   ]
  }
 ],
 "metadata": {
  "kernelspec": {
   "display_name": "Python 3",
   "language": "python",
   "name": "python3"
  },
  "language_info": {
   "codemirror_mode": {
    "name": "ipython",
    "version": 3
   },
   "file_extension": ".py",
   "mimetype": "text/x-python",
   "name": "python",
   "nbconvert_exporter": "python",
   "pygments_lexer": "ipython3",
   "version": "3.11.9"
  }
 },
 "nbformat": 4,
 "nbformat_minor": 2
}
